{
 "cells": [
  {
   "cell_type": "markdown",
   "metadata": {},
   "source": [
    "# Capstone Project 2: Indonesia Tourism Recommender System"
   ]
  },
  {
   "cell_type": "markdown",
   "metadata": {},
   "source": [
    "### Problem Statement:\n",
    "\n",
    "Indonesia wants to boost its tourism industry using advanced machine-learning techniques. You’re tasked with using the tourism data collected by the Indonesian government to understand tourist preferences and build a recommender system to recommend places to tourists.\n",
    "\n",
    "### Overview:\n",
    "\n",
    "For effective marketing, it is of utmost importance to understand the customers(tourists) and their expectations. The recommender system is a great technique to augment the existing marketing outreach to prospects. This project requires you to perform exploratory data analysis and create a recommender system.\n",
    "\n",
    "### Input Dataset:\n",
    "\n",
    "The government has provided you with three input files: \n",
    "\n",
    "- tourism_with_id.xlsx - it has information on tourist attractions in 5 major cities of Indonesia. </br>\n",
    "- user.csv - it contains demographic information about the users to make recommendations. </br>\n",
    "- tourism_rating.csv - it contains 3 columns - the user, the place, and the rating given, and serves to create a recommendation system based on the rating.</br>\n",
    " \n",
    "\n",
    "### Directions: \n",
    "\n",
    "1. Import all the datasets and perform a preliminary inspection. </br>\n",
    "    a. Check for missing values and duplicates. </br>\n",
    "    b. Remove any anomalies found in the data. </br>\n",
    "\n",
    "\n",
    "2. Explore the data in depth to understand the tourism patterns. </br> \n",
    "    a. Explore the user group that provides the tourism ratings by answering the following questions: </br>\n",
    "        i. The age distribution of users visiting the places and giving the ratings.\n",
    "        ii. What are the places from where most of these users (tourists) are coming from? \n",
    "    b. Explore the locations and categories of tourist spots by answering the following questions: </br>\n",
    "        i. What are the different categories of tourist spots? \n",
    "        ii. What kind of tourism each city/location is most famous or suitable for?\n",
    "        iii. Which city would be best for a nature enthusiast to visit?\n",
    "        iv. What is the average price/cost of these places?\n",
    "    c. Create combined data with places and their user ratings.\n",
    "    d. Use this data to figure out the spots that are most loved by the tourists. Also, which city has the most loved tourist spots? </br>\n",
    "    e. Indonesia provides a wide range of tourist spots ranging from historical and cultural beauties to advanced amusement parks. What category of places are the most popular among tourists? </br>\n",
    "\n",
    "\n",
    "3. Build a Recommendation model for the tourists. </br>\n",
    "    a.  Use the above data to develop a collaborative filtering model for recommendation. And use that to recommend other places to visit using the current tourist location (place name). </br>"
   ]
  },
  {
   "cell_type": "code",
   "execution_count": null,
   "metadata": {
    "executionInfo": {
     "elapsed": 2991,
     "status": "ok",
     "timestamp": 1677314213416,
     "user": {
      "displayName": "Shubham Pandey",
      "userId": "10645658922718505789"
     },
     "user_tz": -330
    },
    "id": "iC61IJZaU2nn"
   },
   "outputs": [],
   "source": [
    "import pandas as pd\n",
    "import matplotlib.pyplot as plt\n",
    "import seaborn as sns"
   ]
  },
  {
   "cell_type": "markdown",
   "metadata": {
    "id": "-JT8rDqn37yH"
   },
   "source": [
    "# Import all the datasets and perform the preliminary inspection.\n",
    "\n",
    "> *   Check for missing values and duplicates.\n",
    "> *   Remove any anomalies found in the data.\n"
   ]
  },
  {
   "cell_type": "code",
   "execution_count": null,
   "metadata": {
    "executionInfo": {
     "elapsed": 1646,
     "status": "ok",
     "timestamp": 1677314227541,
     "user": {
      "displayName": "Shubham Pandey",
      "userId": "10645658922718505789"
     },
     "user_tz": -330
    },
    "id": "GICOJrv-UFUi"
   },
   "outputs": [],
   "source": [
    "tourism_with_id = pd.read_excel('tourism_with_id.xlsx')\n",
    "tourism_rating = pd.read_csv('tourism_rating.csv')\n",
    "user = pd.read_csv('user.csv')"
   ]
  },
  {
   "cell_type": "code",
   "execution_count": null,
   "metadata": {
    "colab": {
     "base_uri": "https://localhost:8080/",
     "height": 208
    },
    "executionInfo": {
     "elapsed": 394,
     "status": "ok",
     "timestamp": 1677314235999,
     "user": {
      "displayName": "Shubham Pandey",
      "userId": "10645658922718505789"
     },
     "user_tz": -330
    },
    "id": "0KRecWCqlNl9",
    "outputId": "a49eeb99-d9a0-49d1-cc32-ca0f0a5d4c36"
   },
   "outputs": [],
   "source": [
    "tourism_with_id.head(2)"
   ]
  },
  {
   "cell_type": "code",
   "execution_count": null,
   "metadata": {
    "colab": {
     "base_uri": "https://localhost:8080/",
     "height": 112
    },
    "executionInfo": {
     "elapsed": 7,
     "status": "ok",
     "timestamp": 1677314237354,
     "user": {
      "displayName": "Shubham Pandey",
      "userId": "10645658922718505789"
     },
     "user_tz": -330
    },
    "id": "sMbn-MBV47Vx",
    "outputId": "113b7c14-8f5f-4036-97b1-a3ae11d3d3f4"
   },
   "outputs": [],
   "source": [
    "user.head(2)"
   ]
  },
  {
   "cell_type": "code",
   "execution_count": null,
   "metadata": {
    "colab": {
     "base_uri": "https://localhost:8080/",
     "height": 112
    },
    "executionInfo": {
     "elapsed": 415,
     "status": "ok",
     "timestamp": 1677314244846,
     "user": {
      "displayName": "Shubham Pandey",
      "userId": "10645658922718505789"
     },
     "user_tz": -330
    },
    "id": "u4vW9EVmyqay",
    "outputId": "5431a13d-32f3-4244-d239-86835ed3c574"
   },
   "outputs": [],
   "source": [
    "tourism_rating.head(2)"
   ]
  },
  {
   "cell_type": "code",
   "execution_count": null,
   "metadata": {
    "colab": {
     "base_uri": "https://localhost:8080/"
    },
    "executionInfo": {
     "elapsed": 413,
     "status": "ok",
     "timestamp": 1677314250475,
     "user": {
      "displayName": "Shubham Pandey",
      "userId": "10645658922718505789"
     },
     "user_tz": -330
    },
    "id": "vnZt75aT5E7l",
    "outputId": "b4c90497-70cd-4f82-f3c1-7f5673760b1b"
   },
   "outputs": [],
   "source": [
    "tourism_with_id.info()"
   ]
  },
  {
   "cell_type": "code",
   "execution_count": null,
   "metadata": {
    "colab": {
     "base_uri": "https://localhost:8080/"
    },
    "executionInfo": {
     "elapsed": 5,
     "status": "ok",
     "timestamp": 1677314253714,
     "user": {
      "displayName": "Shubham Pandey",
      "userId": "10645658922718505789"
     },
     "user_tz": -330
    },
    "id": "LapB4vUaj9uh",
    "outputId": "87d2d4ff-8132-438d-942c-d4a0573ac4b2"
   },
   "outputs": [],
   "source": [
    "tourism_with_id.isna().sum()"
   ]
  },
  {
   "cell_type": "code",
   "execution_count": null,
   "metadata": {
    "colab": {
     "base_uri": "https://localhost:8080/"
    },
    "executionInfo": {
     "elapsed": 673,
     "status": "ok",
     "timestamp": 1677314356998,
     "user": {
      "displayName": "Shubham Pandey",
      "userId": "10645658922718505789"
     },
     "user_tz": -330
    },
    "id": "pYfQ1CoF5yYL",
    "outputId": "641be621-a811-40eb-d37f-35a1b6256ce3"
   },
   "outputs": [],
   "source": [
    "tourism_with_id.columns"
   ]
  },
  {
   "cell_type": "markdown",
   "metadata": {
    "id": "CLxwwcPL5Sgc"
   },
   "source": [
    "## Remove columns: \n",
    "Remove the excess or unnecessary columns from the dataset."
   ]
  },
  {
   "cell_type": "code",
   "execution_count": null,
   "metadata": {
    "executionInfo": {
     "elapsed": 2,
     "status": "ok",
     "timestamp": 1677314357958,
     "user": {
      "displayName": "Shubham Pandey",
      "userId": "10645658922718505789"
     },
     "user_tz": -330
    },
    "id": "wfRo5fH7j_mk"
   },
   "outputs": [],
   "source": [
    "# Remove the excess columns from tourism_with_id[]\n",
    "tourism_with_id.drop(columns = ['Unnamed: 11', 'Unnamed: 12', 'Time_Minutes', 'Coordinate'], inplace = True)"
   ]
  },
  {
   "cell_type": "code",
   "execution_count": null,
   "metadata": {
    "colab": {
     "base_uri": "https://localhost:8080/"
    },
    "executionInfo": {
     "elapsed": 2,
     "status": "ok",
     "timestamp": 1677314358472,
     "user": {
      "displayName": "Shubham Pandey",
      "userId": "10645658922718505789"
     },
     "user_tz": -330
    },
    "id": "wKtzWcTRmZWB",
    "outputId": "8daac316-44b8-4163-82cf-979e796dea64",
    "scrolled": true
   },
   "outputs": [],
   "source": [
    "tourism_with_id.info()"
   ]
  },
  {
   "cell_type": "code",
   "execution_count": null,
   "metadata": {
    "colab": {
     "base_uri": "https://localhost:8080/"
    },
    "executionInfo": {
     "elapsed": 3,
     "status": "ok",
     "timestamp": 1677314359189,
     "user": {
      "displayName": "Shubham Pandey",
      "userId": "10645658922718505789"
     },
     "user_tz": -330
    },
    "id": "dzyAfPGf7BIw",
    "outputId": "5b6e4ee0-39fa-4d54-d197-8b6878f7d4a4"
   },
   "outputs": [],
   "source": [
    "user.info()"
   ]
  },
  {
   "cell_type": "code",
   "execution_count": null,
   "metadata": {
    "colab": {
     "base_uri": "https://localhost:8080/"
    },
    "executionInfo": {
     "elapsed": 3,
     "status": "ok",
     "timestamp": 1677314359190,
     "user": {
      "displayName": "Shubham Pandey",
      "userId": "10645658922718505789"
     },
     "user_tz": -330
    },
    "id": "n4Rj9evX7m0V",
    "outputId": "be2549ee-6dc6-4acd-c18e-b0a40c054793"
   },
   "outputs": [],
   "source": [
    "tourism_rating.info()"
   ]
  },
  {
   "cell_type": "code",
   "execution_count": null,
   "metadata": {
    "executionInfo": {
     "elapsed": 2,
     "status": "ok",
     "timestamp": 1677314359883,
     "user": {
      "displayName": "Shubham Pandey",
      "userId": "10645658922718505789"
     },
     "user_tz": -330
    },
    "id": "r2F-zLuO76AG"
   },
   "outputs": [],
   "source": [
    "tourism_with_id.columns = tourism_with_id.columns.str.strip()"
   ]
  },
  {
   "cell_type": "markdown",
   "metadata": {
    "id": "sYmwxpeV7wzD"
   },
   "source": [
    "# 2. To understand the tourism highlights better, we should explore the data in depth.\n",
    "## a. Explore the user groups used to get the tourism ratings.\n",
    "> 1. The age distribution of users visiting the places and giving the ratings.\n"
   ]
  },
  {
   "cell_type": "code",
   "execution_count": null,
   "metadata": {
    "colab": {
     "base_uri": "https://localhost:8080/",
     "height": 370
    },
    "executionInfo": {
     "elapsed": 3,
     "status": "ok",
     "timestamp": 1677314360437,
     "user": {
      "displayName": "Shubham Pandey",
      "userId": "10645658922718505789"
     },
     "user_tz": -330
    },
    "id": "9F89EnuD8bKN",
    "outputId": "4be285d6-749c-4b8f-bdb3-4adce4b7b8fd"
   },
   "outputs": [],
   "source": [
    "# Create a bar plot and box plot to visualize the age distribution of the tourists visiting Indonesia.\n"
   ]
  },
  {
   "cell_type": "markdown",
   "metadata": {
    "id": "ExIwFkG9-4iE"
   },
   "source": [
    "\n",
    "> 2. What are the places from where most of these users (tourists) are coming from?"
   ]
  },
  {
   "cell_type": "code",
   "execution_count": null,
   "metadata": {
    "executionInfo": {
     "elapsed": 3,
     "status": "ok",
     "timestamp": 1677314361396,
     "user": {
      "displayName": "Shubham Pandey",
      "userId": "10645658922718505789"
     },
     "user_tz": -330
    },
    "id": "eyBBjJMEBGKy"
   },
   "outputs": [],
   "source": [
    "user['city'] = user.Location.apply(lambda x: x.split(\",\")[0])"
   ]
  },
  {
   "cell_type": "code",
   "execution_count": null,
   "metadata": {
    "colab": {
     "base_uri": "https://localhost:8080/",
     "height": 606
    },
    "executionInfo": {
     "elapsed": 2,
     "status": "ok",
     "timestamp": 1677314361396,
     "user": {
      "displayName": "Shubham Pandey",
      "userId": "10645658922718505789"
     },
     "user_tz": -330
    },
    "id": "-Q4mRe_E7xVD",
    "outputId": "a118252f-ed35-43e8-949b-e0893800d846"
   },
   "outputs": [],
   "source": [
    "# Visualize the most frequented cities in Indonesia\n"
   ]
  },
  {
   "cell_type": "markdown",
   "metadata": {
    "id": "YanSG4q-Bw9n"
   },
   "source": [
    "## b. Next, explore the locations and categories of tourist spots.\n",
    "\n",
    "> 1. What are the different categories of tourist spots?"
   ]
  },
  {
   "cell_type": "code",
   "execution_count": null,
   "metadata": {
    "executionInfo": {
     "elapsed": 3,
     "status": "ok",
     "timestamp": 1677314362714,
     "user": {
      "displayName": "Shubham Pandey",
      "userId": "10645658922718505789"
     },
     "user_tz": -330
    },
    "id": "R6yRU8IHDyem"
   },
   "outputs": [],
   "source": [
    "tourism_with_id.Category = tourism_with_id.Category.str.strip().str.capitalize()\n",
    "#print(tourism_with_id.Category.unique())"
   ]
  },
  {
   "cell_type": "code",
   "execution_count": null,
   "metadata": {
    "colab": {
     "base_uri": "https://localhost:8080/",
     "height": 362
    },
    "executionInfo": {
     "elapsed": 4,
     "status": "ok",
     "timestamp": 1677314363498,
     "user": {
      "displayName": "Shubham Pandey",
      "userId": "10645658922718505789"
     },
     "user_tz": -330
    },
    "id": "47Jz-mazBxpA",
    "outputId": "f5a373af-ae14-430f-9fe9-3fe23b8e2be7"
   },
   "outputs": [],
   "source": [
    "#Visualize the number of visits for each tourism category to find the most popular category (type) of tourist spot.\n"
   ]
  },
  {
   "cell_type": "markdown",
   "metadata": {
    "id": "ihClBfvTByUU"
   },
   "source": [
    "\n",
    "\n",
    "> 2. What kind of tourism each city/location is most famous or suitable for ?\n"
   ]
  },
  {
   "cell_type": "code",
   "execution_count": null,
   "metadata": {
    "executionInfo": {
     "elapsed": 4,
     "status": "ok",
     "timestamp": 1677314363499,
     "user": {
      "displayName": "Shubham Pandey",
      "userId": "10645658922718505789"
     },
     "user_tz": -330
    },
    "id": "ShO9IkRDGAN9"
   },
   "outputs": [],
   "source": [
    "#setting the colors to represent the graph values\n",
    "color = ['seagreen', 'slateblue', 'darkred', 'saddlebrown']"
   ]
  },
  {
   "cell_type": "code",
   "execution_count": null,
   "metadata": {
    "colab": {
     "base_uri": "https://localhost:8080/",
     "height": 378
    },
    "executionInfo": {
     "elapsed": 1339,
     "status": "ok",
     "timestamp": 1677314365436,
     "user": {
      "displayName": "Shubham Pandey",
      "userId": "10645658922718505789"
     },
     "user_tz": -330
    },
    "id": "hydECOjoB2r6",
    "outputId": "589a2b96-2a10-4d87-adda-a744e7af6880"
   },
   "outputs": [],
   "source": [
    "# Visualize the distribution of the most famous category (type) of tourist spots in each city. \n"
   ]
  },
  {
   "cell_type": "markdown",
   "metadata": {
    "id": "wOV1LJyiG8_p"
   },
   "source": [
    "\n",
    "> 3. Which city would be best for a nature enthusiast to visit?"
   ]
  },
  {
   "cell_type": "code",
   "execution_count": null,
   "metadata": {
    "colab": {
     "base_uri": "https://localhost:8080/"
    },
    "executionInfo": {
     "elapsed": 1067,
     "status": "ok",
     "timestamp": 1677314673116,
     "user": {
      "displayName": "Shubham Pandey",
      "userId": "10645658922718505789"
     },
     "user_tz": -330
    },
    "id": "yMiwRJOUHdwh",
    "outputId": "788032c9-2f27-45f4-bffe-6e3fc2528677"
   },
   "outputs": [],
   "source": [
    "# Find the list of category types \n",
    "tourism_with_id.Category.unique()"
   ]
  },
  {
   "cell_type": "code",
   "execution_count": null,
   "metadata": {
    "colab": {
     "base_uri": "https://localhost:8080/",
     "height": 259
    },
    "executionInfo": {
     "elapsed": 1820,
     "status": "ok",
     "timestamp": 1677314679556,
     "user": {
      "displayName": "Shubham Pandey",
      "userId": "10645658922718505789"
     },
     "user_tz": -330
    },
    "id": "DEJNN_XSG9W-",
    "outputId": "c7efff9e-92b1-40a5-ae8e-4b68cc470ad8"
   },
   "outputs": [],
   "source": [
    "vc = tourism_with_id[tourism_with_id.Category == \"Nature preserve\"].City.value_counts()\n",
    "# Plot the percentage distribution of tourist spots in each city. In this case, only consider spots categorized as \"Nature preserve\"\n"
   ]
  },
  {
   "cell_type": "markdown",
   "metadata": {
    "id": "WYnOa_tBJGar"
   },
   "source": [
    "> 4. What is the avg price/costing of these places?"
   ]
  },
  {
   "cell_type": "code",
   "execution_count": null,
   "metadata": {
    "colab": {
     "base_uri": "https://localhost:8080/",
     "height": 353
    },
    "executionInfo": {
     "elapsed": 9,
     "status": "ok",
     "timestamp": 1677314680763,
     "user": {
      "displayName": "Shubham Pandey",
      "userId": "10645658922718505789"
     },
     "user_tz": -330
    },
    "id": "2w8VIs7RJSaR",
    "outputId": "3543b97e-2be1-4aa9-e46b-230b8fb236e3"
   },
   "outputs": [],
   "source": [
    "# Plot the price distribution for these tourist spots"
   ]
  },
  {
   "cell_type": "markdown",
   "metadata": {
    "id": "CGd2u7ewH_z8"
   },
   "source": [
    "\n",
    "##  c. To better understand the tourism ecosystem, we need to create a combined data with places and their ratings."
   ]
  },
  {
   "cell_type": "code",
   "execution_count": null,
   "metadata": {
    "colab": {
     "base_uri": "https://localhost:8080/",
     "height": 112
    },
    "executionInfo": {
     "elapsed": 8,
     "status": "ok",
     "timestamp": 1677314683056,
     "user": {
      "displayName": "Shubham Pandey",
      "userId": "10645658922718505789"
     },
     "user_tz": -330
    },
    "id": "dEqakMYeIThQ",
    "outputId": "b67ffae0-a697-4ec2-c646-6a7f76b74bda"
   },
   "outputs": [],
   "source": [
    "tourism_rating.head(2)"
   ]
  },
  {
   "cell_type": "code",
   "execution_count": null,
   "metadata": {
    "colab": {
     "base_uri": "https://localhost:8080/",
     "height": 112
    },
    "executionInfo": {
     "elapsed": 7,
     "status": "ok",
     "timestamp": 1677314683797,
     "user": {
      "displayName": "Shubham Pandey",
      "userId": "10645658922718505789"
     },
     "user_tz": -330
    },
    "id": "y3a3u6BGIskN",
    "outputId": "bebd78ae-c235-419e-edc0-da9dbae4e271"
   },
   "outputs": [],
   "source": [
    "tourism_with_id.head(2)"
   ]
  },
  {
   "cell_type": "markdown",
   "metadata": {
    "id": "jIQrxNZMYm5l"
   },
   "source": [
    "## Calculate weighted average ratings for each place"
   ]
  },
  {
   "cell_type": "code",
   "execution_count": null,
   "metadata": {
    "colab": {
     "base_uri": "https://localhost:8080/",
     "height": 112
    },
    "executionInfo": {
     "elapsed": 436,
     "status": "ok",
     "timestamp": 1677314689376,
     "user": {
      "displayName": "Shubham Pandey",
      "userId": "10645658922718505789"
     },
     "user_tz": -330
    },
    "id": "v9gciJBvIVET",
    "outputId": "22d4cccc-aff1-4ad4-c096-b906aa217ece"
   },
   "outputs": [],
   "source": [
    "# Calculate the weighted average of the 'Place_Ratings' column for each place/location.\n"
   ]
  },
  {
   "cell_type": "code",
   "execution_count": null,
   "metadata": {
    "colab": {
     "base_uri": "https://localhost:8080/",
     "height": 112
    },
    "executionInfo": {
     "elapsed": 5,
     "status": "ok",
     "timestamp": 1677314689376,
     "user": {
      "displayName": "Shubham Pandey",
      "userId": "10645658922718505789"
     },
     "user_tz": -330
    },
    "id": "s6EskvzZPVSq",
    "outputId": "046d8853-33f4-4354-a24f-7d2c83b906dc"
   },
   "outputs": [],
   "source": [
    "# Merge this new average place rating to the tourism_with_id table. Hint: Join on the Place_Id column. Check the head of the new table to confirm the join operation.\n"
   ]
  },
  {
   "cell_type": "markdown",
   "metadata": {
    "id": "9id_e9MCPlD5"
   },
   "source": [
    "\n",
    "## d. Use this data to figure out the spots that  are most loved by the tourists. "
   ]
  },
  {
   "cell_type": "code",
   "execution_count": null,
   "metadata": {
    "colab": {
     "base_uri": "https://localhost:8080/",
     "height": 554
    },
    "executionInfo": {
     "elapsed": 7,
     "status": "ok",
     "timestamp": 1677314690357,
     "user": {
      "displayName": "Shubham Pandey",
      "userId": "10645658922718505789"
     },
     "user_tz": -330
    },
    "id": "WiNJDnVOXd2Z",
    "outputId": "afeb5d98-4cee-47ad-f708-3db4adcbdfd5"
   },
   "outputs": [],
   "source": [
    "place_ratings.sort_values(\"Place_Ratings\",ascending = False)"
   ]
  },
  {
   "cell_type": "markdown",
   "metadata": {
    "id": "x_KxEEZQZtln"
   },
   "source": [
    "## Also, which city has the most loved tourist spots.\n",
    "\n",
    "- Solution : Picking up the places with average rating above 3.5 as most loved places and finding the cities where most of these highly rated spots are present"
   ]
  },
  {
   "cell_type": "code",
   "execution_count": null,
   "metadata": {
    "colab": {
     "base_uri": "https://localhost:8080/",
     "height": 260
    },
    "executionInfo": {
     "elapsed": 644,
     "status": "ok",
     "timestamp": 1677314697358,
     "user": {
      "displayName": "Shubham Pandey",
      "userId": "10645658922718505789"
     },
     "user_tz": -330
    },
    "id": "rA5En2SLZewn",
    "outputId": "442e6380-de05-4576-f1f9-6594221ff618"
   },
   "outputs": [],
   "source": [
    "# Plot the percentage distribution of the cities with the most number of popular tourist spots. A popular tourist spot is defined as a place with an average rating greater than 3.5\n"
   ]
  },
  {
   "cell_type": "markdown",
   "metadata": {
    "id": "YV66YaTvamIT"
   },
   "source": [
    "__Observations:__\n",
    "- Record your observations here."
   ]
  },
  {
   "cell_type": "markdown",
   "metadata": {
    "id": "cQmzixrWXcam"
   },
   "source": [
    "## e. Indonesia provides a wide range of tourist spots ranging from historical and cultural beauties to advanced amusement parks. What category of places are users liking the most amongst these ?\n"
   ]
  },
  {
   "cell_type": "markdown",
   "metadata": {
    "id": "hmpnOhcnbDMw"
   },
   "source": [
    "- Again picking up the places with average rating above 3.5 and finding out the which are the most liked categories\n",
    "\n",
    "- Most people liking the amusement parks very closely followed by the nature preserve."
   ]
  },
  {
   "cell_type": "code",
   "execution_count": null,
   "metadata": {
    "colab": {
     "base_uri": "https://localhost:8080/",
     "height": 362
    },
    "executionInfo": {
     "elapsed": 8,
     "status": "ok",
     "timestamp": 1677314700898,
     "user": {
      "displayName": "Shubham Pandey",
      "userId": "10645658922718505789"
     },
     "user_tz": -330
    },
    "id": "jfJPhaBfa131",
    "outputId": "259a849e-8650-46ca-e3f2-fefb210b07d0"
   },
   "outputs": [],
   "source": [
    "# Plot the distribution of the popular tourist spots (average ratings > 3.5) across the tourist categories\n"
   ]
  },
  {
   "cell_type": "markdown",
   "metadata": {
    "id": "8hT12FgTmJ0V"
   },
   "source": [
    "# Build a Recommendation model for the tourists.\n",
    "\n",
    "- Create a dataframe with information about these spots to include place id, user rating, name, description, category, location and price.\n",
    "\n",
    "\n",
    "- Use the above data to develop a content based filtering model for recommendation. And use that to recommend other places to visit using the current tourist location(place name).\n",
    "\n"
   ]
  },
  {
   "cell_type": "code",
   "execution_count": null,
   "metadata": {
    "colab": {
     "base_uri": "https://localhost:8080/",
     "height": 112
    },
    "executionInfo": {
     "elapsed": 442,
     "status": "ok",
     "timestamp": 1677315600980,
     "user": {
      "displayName": "Shubham Pandey",
      "userId": "10645658922718505789"
     },
     "user_tz": -330
    },
    "id": "P1ywgeihjx83",
    "outputId": "540b86c1-dbb0-4d61-dd13-09f3e0cb170a"
   },
   "outputs": [],
   "source": [
    "# Create the dataframe for the recommender system.\n"
   ]
  },
  {
   "cell_type": "code",
   "execution_count": null,
   "metadata": {
    "executionInfo": {
     "elapsed": 1,
     "status": "ok",
     "timestamp": 1677314823085,
     "user": {
      "displayName": "Shubham Pandey",
      "userId": "10645658922718505789"
     },
     "user_tz": -330
    },
    "id": "JxkmAry1pn0P"
   },
   "outputs": [],
   "source": [
    "ratings_data = recom_data.groupby(['User_Id', 'Place_Name'])['Place_Ratings'].mean().unstack()"
   ]
  },
  {
   "cell_type": "code",
   "execution_count": null,
   "metadata": {
    "colab": {
     "base_uri": "https://localhost:8080/",
     "height": 588
    },
    "executionInfo": {
     "elapsed": 412,
     "status": "ok",
     "timestamp": 1677314828956,
     "user": {
      "displayName": "Shubham Pandey",
      "userId": "10645658922718505789"
     },
     "user_tz": -330
    },
    "id": "TNHyKleXgdxI",
    "outputId": "f748b1e3-418d-4462-bdad-ccdb83b567dd"
   },
   "outputs": [],
   "source": [
    "ratings_data"
   ]
  },
  {
   "cell_type": "code",
   "execution_count": null,
   "metadata": {
    "colab": {
     "base_uri": "https://localhost:8080/",
     "height": 400
    },
    "executionInfo": {
     "elapsed": 875,
     "status": "ok",
     "timestamp": 1677314841288,
     "user": {
      "displayName": "Shubham Pandey",
      "userId": "10645658922718505789"
     },
     "user_tz": -330
    },
    "id": "7mbEllnVqrU_",
    "outputId": "944595c5-fba4-4569-9ec3-93d37ea36c6b"
   },
   "outputs": [],
   "source": [
    "# Normalize user-item matrix\n"
   ]
  },
  {
   "cell_type": "code",
   "execution_count": null,
   "metadata": {
    "colab": {
     "base_uri": "https://localhost:8080/",
     "height": 331
    },
    "executionInfo": {
     "elapsed": 398,
     "status": "ok",
     "timestamp": 1677314852781,
     "user": {
      "displayName": "Shubham Pandey",
      "userId": "10645658922718505789"
     },
     "user_tz": -330
    },
    "id": "tyjS5TaxrLOW",
    "outputId": "7dfbb4aa-1c69-4f84-d54d-147390db9b97"
   },
   "outputs": [],
   "source": [
    "# create a User similarity matrix using Pearson correlation\n"
   ]
  },
  {
   "cell_type": "code",
   "execution_count": null,
   "metadata": {
    "executionInfo": {
     "elapsed": 399,
     "status": "ok",
     "timestamp": 1677314887466,
     "user": {
      "displayName": "Shubham Pandey",
      "userId": "10645658922718505789"
     },
     "user_tz": -330
    },
    "id": "fT7tgLUbrmvC"
   },
   "outputs": [],
   "source": [
    "# Similarity\n",
    "from sklearn.metrics.pairwise import cosine_similarity"
   ]
  },
  {
   "cell_type": "code",
   "execution_count": null,
   "metadata": {
    "colab": {
     "base_uri": "https://localhost:8080/"
    },
    "executionInfo": {
     "elapsed": 5,
     "status": "ok",
     "timestamp": 1677314889749,
     "user": {
      "displayName": "Shubham Pandey",
      "userId": "10645658922718505789"
     },
     "user_tz": -330
    },
    "id": "zkmJXTmjrSy0",
    "outputId": "fd832a4a-2259-4474-d304-54bbc330ff3d"
   },
   "outputs": [],
   "source": [
    "user_similarity_cosine = cosine_similarity(data_norm.fillna(0))\n",
    "user_similarity_cosine"
   ]
  },
  {
   "cell_type": "code",
   "execution_count": null,
   "metadata": {
    "colab": {
     "base_uri": "https://localhost:8080/",
     "height": 311
    },
    "executionInfo": {
     "elapsed": 539,
     "status": "ok",
     "timestamp": 1677314901061,
     "user": {
      "displayName": "Shubham Pandey",
      "userId": "10645658922718505789"
     },
     "user_tz": -330
    },
    "id": "sB51MscbrfJ4",
    "outputId": "635ced43-37ba-4b09-8a60-0a6cf780676d"
   },
   "outputs": [],
   "source": [
    "# Pick a user ID\n",
    "picked_userid = 1\n",
    "# Remove picked user ID from the candidate list\n",
    "user_similarity.drop(index=picked_userid, inplace=True)\n",
    "# Take a look at the data\n",
    "user_similarity.head()"
   ]
  },
  {
   "cell_type": "code",
   "execution_count": null,
   "metadata": {
    "colab": {
     "base_uri": "https://localhost:8080/"
    },
    "executionInfo": {
     "elapsed": 6,
     "status": "ok",
     "timestamp": 1677314907104,
     "user": {
      "displayName": "Shubham Pandey",
      "userId": "10645658922718505789"
     },
     "user_tz": -330
    },
    "id": "VcH3zqm7rnnS",
    "outputId": "af72ddcb-b6b0-4a61-92b0-02552d48d308"
   },
   "outputs": [],
   "source": [
    "# Number of similar users\n",
    "n = 10\n",
    "# User similarity threashold\n",
    "user_similarity_threshold = 0.3\n",
    "# Get top n similar users\n",
    "# Print out top n similar users\n"
   ]
  },
  {
   "cell_type": "code",
   "execution_count": null,
   "metadata": {
    "colab": {
     "base_uri": "https://localhost:8080/",
     "height": 990
    },
    "executionInfo": {
     "elapsed": 8,
     "status": "ok",
     "timestamp": 1677314955644,
     "user": {
      "displayName": "Shubham Pandey",
      "userId": "10645658922718505789"
     },
     "user_tz": -330
    },
    "id": "D-HDKU_XrucE",
    "outputId": "70ed238c-8332-4556-c91b-7eb47a7e9e78"
   },
   "outputs": [],
   "source": [
    "# List the places that the target user has visited and rated\n"
   ]
  },
  {
   "cell_type": "code",
   "execution_count": null,
   "metadata": {
    "colab": {
     "base_uri": "https://localhost:8080/",
     "height": 574
    },
    "executionInfo": {
     "elapsed": 460,
     "status": "ok",
     "timestamp": 1677315004402,
     "user": {
      "displayName": "Shubham Pandey",
      "userId": "10645658922718505789"
     },
     "user_tz": -330
    },
    "id": "ucEAO-JSrxkx",
    "outputId": "b48040c9-a32f-44e5-b807-a0f288ca48a8"
   },
   "outputs": [],
   "source": [
    "# List the places that similar users visited and rated. \n"
   ]
  },
  {
   "cell_type": "code",
   "execution_count": null,
   "metadata": {
    "colab": {
     "base_uri": "https://localhost:8080/",
     "height": 574
    },
    "executionInfo": {
     "elapsed": 9,
     "status": "ok",
     "timestamp": 1677315044806,
     "user": {
      "displayName": "Shubham Pandey",
      "userId": "10645658922718505789"
     },
     "user_tz": -330
    },
    "id": "T8frZSSAr410",
    "outputId": "d7447d7e-29af-48ce-f09a-1e169ee9600a"
   },
   "outputs": [],
   "source": [
    "# Remove the places already visitied\n",
    "# Take a look at the data\n"
   ]
  },
  {
   "cell_type": "code",
   "execution_count": null,
   "metadata": {
    "colab": {
     "base_uri": "https://localhost:8080/"
    },
    "executionInfo": {
     "elapsed": 822,
     "status": "ok",
     "timestamp": 1677315360105,
     "user": {
      "displayName": "Shubham Pandey",
      "userId": "10645658922718505789"
     },
     "user_tz": -330
    },
    "id": "cXArUt3qr9_o",
    "outputId": "fac44c14-ae3c-42a4-b086-8c8e494a15a0"
   },
   "outputs": [],
   "source": [
    "# A dictionary to store item scores\n",
    "\n",
    "# Convert dictionary to pandas dataframe\n",
    "    \n",
    "# Sort the places by score\n",
    "\n",
    "# Display top m places\n"
   ]
  }
 ],
 "metadata": {
  "colab": {
   "authorship_tag": "ABX9TyOEiEB7s7IWvGtdxpZ89+Qb",
   "mount_file_id": "1eXjOqCq1XeMUvsNWlCzs-DLsabrWQ9Pa",
   "provenance": []
  },
  "kernelspec": {
   "display_name": "Python 3 [3.10]",
   "language": "python",
   "name": "python3"
  },
  "language_info": {
   "codemirror_mode": {
    "name": "ipython",
    "version": 3
   },
   "file_extension": ".py",
   "mimetype": "text/x-python",
   "name": "python",
   "nbconvert_exporter": "python",
   "pygments_lexer": "ipython3",
   "version": "3.10.2"
  }
 },
 "nbformat": 4,
 "nbformat_minor": 1
}
